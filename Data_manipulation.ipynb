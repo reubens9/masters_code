{
 "cells": [
  {
   "cell_type": "code",
   "execution_count": 1,
   "metadata": {},
   "outputs": [],
   "source": [
    "import pandas as pd\n",
    "import numpy as np\n",
    "import datetime\n",
    "from matplotlib import pyplot as plt\n",
    "import time"
   ]
  },
  {
   "cell_type": "code",
   "execution_count": 2,
   "metadata": {},
   "outputs": [],
   "source": [
    "start = time.time()\n",
    "Headings = [ 'Date','Time','Temperature(C)','pH','Dosing','Gas_analyser_CO2%',\n",
    "             'Gas_analyser_O2%','CO2_Flow_rate(ml/min)','O2_Flow_rate_(ml/min)',\n",
    "                      'Dosing_(RPM)','Feed_(RPM)','Dosing_average_(on/off)',\n",
    "                      'CO2_rate_(mol/Cmol/min)','O2_rate_(mol/Cmol/min)',\n",
    "                      'Fumaric_rate_(Cmol/Cmol/min)','Ethanol_rate_(Cmol/Cmol/min)','extra' ]\n",
    "\n",
    "Data = pd.read_csv('E:\\Google Drive\\!Varsity\\!Post\\Masters\\Data\\Raw\\Run 5\\Run_5P.txt', \n",
    "                   sep = '\\t', names = Headings, index_col=False)\n",
    "                 "
   ]
  },
  {
   "cell_type": "code",
   "execution_count": 3,
   "metadata": {},
   "outputs": [],
   "source": [
    "def date_time_split(date_str,time_str):\n",
    "    time, am_pm = time_str.split()\n",
    "    hh, mm, ss = time.split(':')\n",
    "    y,m,d = date_str.split('/')\n",
    "    c = 0\n",
    "    hh = int(hh)\n",
    "    if am_pm == 'PM':\n",
    "        hh = 12 + hh\n",
    "        if hh == 24:\n",
    "            hh = 12\n",
    "    else: \n",
    "        if hh == 12:\n",
    "            hh = 0\n",
    "    return [int(y),int(m),int(d),hh,int(mm),int(ss)]\n",
    "\n",
    "\n",
    "def delta_t(date_time_zero, date_time):\n",
    "    y,m,d,hh,mm,ss = date_time\n",
    "    yz,mz,dz,hhz,mmz,ssz = date_time_zero\n",
    "    s = datetime.datetime(yz,mz,dz,hhz,mmz,ssz)\n",
    "    e = datetime.datetime(y,m,d,hh,mm,ss)\n",
    "    dt = e - s\n",
    "    return dt.total_seconds()"
   ]
  },
  {
   "cell_type": "code",
   "execution_count": 4,
   "metadata": {},
   "outputs": [],
   "source": [
    "start = date_time_split(Data['Date'][0],Data['Time'][0])\n",
    "Time = [delta_t(start, date_time_split(Data['Date'][i],Data['Time'][i])) for i in range(len(Data))]\n",
    "Time = np.array(Time)\n",
    "Data = pd.DataFrame(Data)\n",
    "Data = Data.drop(['Date', 'extra'], axis = 1)\n",
    "Time = pd.DataFrame(Time/3600)\n",
    "Data['Time'] = Time"
   ]
  },
  {
   "cell_type": "code",
   "execution_count": null,
   "metadata": {},
   "outputs": [],
   "source": [
    "Data.to_csv('Run_5P_edit.csv')"
   ]
  },
  {
   "cell_type": "code",
   "execution_count": 5,
   "metadata": {},
   "outputs": [],
   "source": [
    "Data = pd.read_csv('Run_5P_edit.csv', index_col = False)"
   ]
  },
  {
   "cell_type": "code",
   "execution_count": 7,
   "metadata": {},
   "outputs": [],
   "source": [
    "T_max = 65\n",
    "Temp = np.array(Data['Temperature(C)'])\n",
    "drop_list = []\n",
    "while T_max > 40:\n",
    "    T_max = np.max(Temp)\n",
    "    i = np.argmax(Temp)\n",
    "    drop_list.append(i)\n",
    "    Temp[i] = 0\n",
    "    \n",
    "Data = Data.drop(drop_list)\n",
    "# Data.to_csv('Run_5P_edit.csv')"
   ]
  },
  {
   "cell_type": "code",
   "execution_count": 10,
   "metadata": {},
   "outputs": [
    {
     "name": "stdout",
     "output_type": "stream",
     "text": [
      "[325052, 27038, 20209, 574739, 36455]\n"
     ]
    },
    {
     "data": {
      "image/png": "[encoded data removed]",
      "text/plain": [
       "<matplotlib.figure.Figure at 0x1ee36c68d30>"
      ]
     },
     "metadata": {
      "needs_background": "light"
     },
     "output_type": "display_data"
    }
   ],
   "source": [
    "O_max = 35\n",
    "O2 = np.array(Data['Gas_analyser_O2%'])\n",
    "drop_list = []\n",
    "while O_max > 22:\n",
    "    O_max = np.max(O2)\n",
    "    i = np.argmax(O2)\n",
    "    drop_list.append(i)\n",
    "    O2[i] = 20\n",
    "    \n",
    "O_min = 15\n",
    "while O_min < 18:\n",
    "    O_min = np.min(O2)\n",
    "    i = np.argmin(O2)\n",
    "    drop_list.append(i)\n",
    "    O2[i] = 20\n",
    "    \n",
    "print (drop_list)  \n",
    "Data = Data.drop(drop_list)\n",
    "# Data.to_csv('Run_5P_edit.csv')\n",
    "plt.plot(Data['Time'], Data['Gas_analyser_O2%'])\n",
    "plt.show()"
   ]
  },
  {
   "cell_type": "code",
   "execution_count": null,
   "metadata": {},
   "outputs": [],
   "source": [
    "plt.plot(Data['Time'], Data['Temperature(C)'])\n",
    "plt.plot(Data['Time'], Data['Dosing_average_(on/off)'])"
   ]
  },
  {
   "cell_type": "code",
   "execution_count": null,
   "metadata": {},
   "outputs": [],
   "source": [
    "delta_t(start, [2019,3,31,7,0,0])/3600"
   ]
  },
  {
   "cell_type": "code",
   "execution_count": null,
   "metadata": {},
   "outputs": [],
   "source": []
  }
 ],
 "metadata": {
  "kernelspec": {
   "display_name": "Python 3",
   "language": "python",
   "name": "python3"
  },
  "language_info": {
   "codemirror_mode": {
    "name": "ipython",
    "version": 3
   },
   "file_extension": ".py",
   "mimetype": "text/x-python",
   "name": "python",
   "nbconvert_exporter": "python",
   "pygments_lexer": "ipython3",
   "version": "3.6.3"
  }
 },
 "nbformat": 4,
 "nbformat_minor": 2
}
