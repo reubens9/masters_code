{
 "cells": [
  {
   "cell_type": "code",
   "execution_count": 2,
   "metadata": {},
   "outputs": [],
   "source": [
    "import numpy as np\n",
    "import pandas as pd\n",
    "from matplotlib import pyplot as plt\n",
    "import Reactor_V1 as rf\n",
    "\n",
    "%matplotlib inline"
   ]
  },
  {
   "cell_type": "code",
   "execution_count": 3,
   "metadata": {},
   "outputs": [],
   "source": [
    "data = pd.read_csv('Run_5P_edit.csv')"
   ]
  },
  {
   "cell_type": "code",
   "execution_count": 4,
   "metadata": {},
   "outputs": [
    {
     "data": {
      "text/html": [
       "<div>\n",
       "<style>\n",
       "    .dataframe thead tr:only-child th {\n",
       "        text-align: right;\n",
       "    }\n",
       "\n",
       "    .dataframe thead th {\n",
       "        text-align: left;\n",
       "    }\n",
       "\n",
       "    .dataframe tbody tr th {\n",
       "        vertical-align: top;\n",
       "    }\n",
       "</style>\n",
       "<table border=\"1\" class=\"dataframe\">\n",
       "  <thead>\n",
       "    <tr style=\"text-align: right;\">\n",
       "      <th></th>\n",
       "      <th>Unnamed: 0</th>\n",
       "      <th>Time</th>\n",
       "      <th>Temperature(C)</th>\n",
       "      <th>pH</th>\n",
       "      <th>Dosing</th>\n",
       "      <th>Gas_analyser_CO2%</th>\n",
       "      <th>Gas_analyser_O2%</th>\n",
       "      <th>CO2_Flow_rate(ml/min)</th>\n",
       "      <th>O2_Flow_rate_(ml/min)</th>\n",
       "      <th>Dosing_(RPM)</th>\n",
       "      <th>Feed_(RPM)</th>\n",
       "      <th>Dosing_average_(on/off)</th>\n",
       "      <th>CO2_rate_(mol/Cmol/min)</th>\n",
       "      <th>O2_rate_(mol/Cmol/min)</th>\n",
       "      <th>Fumaric_rate_(Cmol/Cmol/min)</th>\n",
       "      <th>Ethanol_rate_(Cmol/Cmol/min)</th>\n",
       "    </tr>\n",
       "  </thead>\n",
       "  <tbody>\n",
       "    <tr>\n",
       "      <th>0</th>\n",
       "      <td>0</td>\n",
       "      <td>0.000000</td>\n",
       "      <td>30.475392</td>\n",
       "      <td>5.603549</td>\n",
       "      <td>0.0</td>\n",
       "      <td>6.640968</td>\n",
       "      <td>20.396430</td>\n",
       "      <td>8.678655</td>\n",
       "      <td>0.0</td>\n",
       "      <td>5.1</td>\n",
       "      <td>2.7</td>\n",
       "      <td>0.824215</td>\n",
       "      <td>-7.452582</td>\n",
       "      <td>2.039622</td>\n",
       "      <td>0.011274</td>\n",
       "      <td>-10.820548</td>\n",
       "    </tr>\n",
       "    <tr>\n",
       "      <th>1</th>\n",
       "      <td>1</td>\n",
       "      <td>0.000278</td>\n",
       "      <td>30.535807</td>\n",
       "      <td>5.602112</td>\n",
       "      <td>0.0</td>\n",
       "      <td>6.640122</td>\n",
       "      <td>20.384183</td>\n",
       "      <td>8.677337</td>\n",
       "      <td>0.0</td>\n",
       "      <td>5.1</td>\n",
       "      <td>2.7</td>\n",
       "      <td>0.823938</td>\n",
       "      <td>-7.454882</td>\n",
       "      <td>1.989599</td>\n",
       "      <td>0.011270</td>\n",
       "      <td>-10.925196</td>\n",
       "    </tr>\n",
       "    <tr>\n",
       "      <th>2</th>\n",
       "      <td>2</td>\n",
       "      <td>0.000556</td>\n",
       "      <td>30.554946</td>\n",
       "      <td>5.595226</td>\n",
       "      <td>0.0</td>\n",
       "      <td>6.640558</td>\n",
       "      <td>20.399339</td>\n",
       "      <td>8.678728</td>\n",
       "      <td>0.0</td>\n",
       "      <td>5.1</td>\n",
       "      <td>2.7</td>\n",
       "      <td>0.823660</td>\n",
       "      <td>-7.454305</td>\n",
       "      <td>2.051447</td>\n",
       "      <td>0.011267</td>\n",
       "      <td>-10.800346</td>\n",
       "    </tr>\n",
       "    <tr>\n",
       "      <th>3</th>\n",
       "      <td>3</td>\n",
       "      <td>0.000833</td>\n",
       "      <td>30.603234</td>\n",
       "      <td>5.570871</td>\n",
       "      <td>0.0</td>\n",
       "      <td>6.640514</td>\n",
       "      <td>20.376400</td>\n",
       "      <td>8.678644</td>\n",
       "      <td>0.0</td>\n",
       "      <td>5.1</td>\n",
       "      <td>2.7</td>\n",
       "      <td>0.823382</td>\n",
       "      <td>-7.454413</td>\n",
       "      <td>1.958305</td>\n",
       "      <td>0.011263</td>\n",
       "      <td>-10.986849</td>\n",
       "    </tr>\n",
       "    <tr>\n",
       "      <th>4</th>\n",
       "      <td>4</td>\n",
       "      <td>0.001111</td>\n",
       "      <td>30.628962</td>\n",
       "      <td>5.562353</td>\n",
       "      <td>0.0</td>\n",
       "      <td>6.636283</td>\n",
       "      <td>20.398931</td>\n",
       "      <td>8.678705</td>\n",
       "      <td>0.0</td>\n",
       "      <td>5.1</td>\n",
       "      <td>2.7</td>\n",
       "      <td>0.823105</td>\n",
       "      <td>-7.471643</td>\n",
       "      <td>2.049785</td>\n",
       "      <td>0.011259</td>\n",
       "      <td>-10.838352</td>\n",
       "    </tr>\n",
       "  </tbody>\n",
       "</table>\n",
       "</div>"
      ],
      "text/plain": [
       "   Unnamed: 0      Time  Temperature(C)        pH  Dosing  Gas_analyser_CO2%  \\\n",
       "0           0  0.000000       30.475392  5.603549     0.0           6.640968   \n",
       "1           1  0.000278       30.535807  5.602112     0.0           6.640122   \n",
       "2           2  0.000556       30.554946  5.595226     0.0           6.640558   \n",
       "3           3  0.000833       30.603234  5.570871     0.0           6.640514   \n",
       "4           4  0.001111       30.628962  5.562353     0.0           6.636283   \n",
       "\n",
       "   Gas_analyser_O2%  CO2_Flow_rate(ml/min)  O2_Flow_rate_(ml/min)  \\\n",
       "0         20.396430               8.678655                    0.0   \n",
       "1         20.384183               8.677337                    0.0   \n",
       "2         20.399339               8.678728                    0.0   \n",
       "3         20.376400               8.678644                    0.0   \n",
       "4         20.398931               8.678705                    0.0   \n",
       "\n",
       "   Dosing_(RPM)  Feed_(RPM)  Dosing_average_(on/off)  CO2_rate_(mol/Cmol/min)  \\\n",
       "0           5.1         2.7                 0.824215                -7.452582   \n",
       "1           5.1         2.7                 0.823938                -7.454882   \n",
       "2           5.1         2.7                 0.823660                -7.454305   \n",
       "3           5.1         2.7                 0.823382                -7.454413   \n",
       "4           5.1         2.7                 0.823105                -7.471643   \n",
       "\n",
       "   O2_rate_(mol/Cmol/min)  Fumaric_rate_(Cmol/Cmol/min)  \\\n",
       "0                2.039622                      0.011274   \n",
       "1                1.989599                      0.011270   \n",
       "2                2.051447                      0.011267   \n",
       "3                1.958305                      0.011263   \n",
       "4                2.049785                      0.011259   \n",
       "\n",
       "   Ethanol_rate_(Cmol/Cmol/min)  \n",
       "0                    -10.820548  \n",
       "1                    -10.925196  \n",
       "2                    -10.800346  \n",
       "3                    -10.986849  \n",
       "4                    -10.838352  "
      ]
     },
     "execution_count": 4,
     "metadata": {},
     "output_type": "execute_result"
    }
   ],
   "source": [
    "data.head()"
   ]
  },
  {
   "cell_type": "code",
   "execution_count": 5,
   "metadata": {},
   "outputs": [],
   "source": [
    "time = np.array(data['Time'])\n",
    "r_co2 = np.array(data['CO2_rate_(mol/Cmol/min)'])\n",
    "r_o2 = np.array(data['O2_rate_(mol/Cmol/min)'])\n",
    "dosing_avg = np.nan_to_num(np.array(data['Dosing_average_(on/off)']))\n",
    "dosing_rpm = np.array(data['Dosing_(RPM)'])\n",
    "dosing_raw = np.array(data['Dosing'])\n",
    "comp_co2 = np.array(data['Gas_analyser_CO2%'])\n",
    "comp_o2 = np.array(data['Gas_analyser_O2%'])\n",
    "flow_co2 = np.array(data['CO2_Flow_rate(ml/min)'])\n",
    "flow_o2 = np.array(data['O2_Flow_rate_(ml/min)'])\n",
    "temp = np.array(data['Temperature(C)'])"
   ]
  },
  {
   "cell_type": "code",
   "execution_count": 6,
   "metadata": {},
   "outputs": [
    {
     "name": "stdout",
     "output_type": "stream",
     "text": [
      "2.0553174356699513\n"
     ]
    }
   ],
   "source": [
    "# volume test\n",
    "\n",
    "i_start = int(len(time) * 110.5/time[-1])\n",
    "\n",
    "sum_avg = np.sum(dosing_avg[i_start::])\n",
    "sum_raw = np.sum(dosing_raw[i_start::])\n",
    "\n",
    "error = (sum_avg - sum_raw)/sum_raw *100\n",
    "print (error)"
   ]
  },
  {
   "cell_type": "code",
   "execution_count": 7,
   "metadata": {},
   "outputs": [
    {
     "data": {
      "image/png": "[encoded data removed]",
      "text/plain": [
       "<matplotlib.figure.Figure at 0x14438751320>"
      ]
     },
     "metadata": {
      "needs_background": "light"
     },
     "output_type": "display_data"
    },
    {
     "data": {
      "image/png": "[encoded data removed]",
      "text/plain": [
       "<matplotlib.figure.Figure at 0x1444147b358>"
      ]
     },
     "metadata": {
      "needs_background": "light"
     },
     "output_type": "display_data"
    }
   ],
   "source": [
    "# fumaric production\n",
    "\"\"\" rate of fumaric is calculated by converting the rate of NaOH dosing to fumaric production\"\"\"\n",
    "\n",
    "rpm = 2\n",
    "mmx = 24.04 # g/cmol C H 1.8 O 0.5 N 0.16\n",
    "\n",
    "flowrate_naoh = dosing_avg * (0.05228291711 * rpm - 0.005367597828) #ml/min\\n\",\n",
    "rate_f = 10 * 0.5 * flowrate_naoh * (1.087/(1.93/mmx)) # mmol/ml * mol_f/mol_naoh * ml/min = mmol/min\n",
    "\n",
    "plt.plot(time[i_start::],rate_f[i_start::], 'k')\n",
    "plt.plot(time[i_start::],data['Fumaric_rate_(Cmol/Cmol/min)'][i_start::]*1000)\n",
    "plt.show()\n",
    "\n",
    "plt.plot(time[i_start::],dosing_avg[i_start::])\n",
    "plt.show()"
   ]
  },
  {
   "cell_type": "code",
   "execution_count": 8,
   "metadata": {},
   "outputs": [],
   "source": [
    "# gas analysis\n",
    "\n",
    "V = 22.4 #L\n",
    "R = 8.3144598E-2 #L⋅bar⋅K−1⋅mol−1\n",
    "P = 1.01325 #bar\n",
    "T = 273.15 + 35 #K\n",
    "#PV = nRT\n",
    "n = P*V/(R*T)\n",
    "\n",
    "\n",
    "comp_co2_0 = 8.4768/100 #%\n",
    "comp_o2_0 = 19.894/100 #%\n",
    "\n",
    "\n",
    "Qtotal = (flow_co2 + flow_o2)/1000 #ml/min\n",
    "Ftotal = Qtotal*P/(R*temp)\n",
    "Fco2_in = Qtotal*P/(R*temp)*comp_co2_0\n",
    "Fo2_in = Qtotal*P/(R*temp)*comp_o2_0\n",
    "Fco2_out = Qtotal*P/(R*temp)*comp_co2\n",
    "Fo2_out = Qtotal*P/(R*temp)*comp_o2\n",
    "\n",
    "mx = 1.93 / 24.04 #mol_x\n",
    "\n",
    "r_co2_cal = (Fco2_out - Fco2_in)/mx\n",
    "r_o2_cal = (Fo2_out - Fo2_in)/mx"
   ]
  },
  {
   "cell_type": "code",
   "execution_count": null,
   "metadata": {},
   "outputs": [],
   "source": []
  }
 ],
 "metadata": {
  "kernelspec": {
   "display_name": "Python 3",
   "language": "python",
   "name": "python3"
  },
  "language_info": {
   "codemirror_mode": {
    "name": "ipython",
    "version": 3
   },
   "file_extension": ".py",
   "mimetype": "text/x-python",
   "name": "python",
   "nbconvert_exporter": "python",
   "pygments_lexer": "ipython3",
   "version": "3.6.3"
  }
 },
 "nbformat": 4,
 "nbformat_minor": 2
}
