{
 "cells": [
  {
   "cell_type": "code",
<<<<<<< HEAD
   "execution_count": 3,
=======
   "execution_count": 1,
>>>>>>> 414f782ab4d7aa645846effbb20e57a09767c1d7
   "metadata": {},
   "outputs": [],
   "source": [
    "import numpy as np\n",
    "import pandas as pd\n",
    "from matplotlib import pyplot as plt\n",
    "import Reactor_V1 as rf\n",
    "\n",
    "%matplotlib inline"
   ]
  },
  {
   "cell_type": "code",
<<<<<<< HEAD
   "execution_count": 4,
=======
   "execution_count": 2,
>>>>>>> 414f782ab4d7aa645846effbb20e57a09767c1d7
   "metadata": {},
   "outputs": [],
   "source": [
    "data = pd.read_csv('Run_5P_edit.csv')"
   ]
  },
  {
   "cell_type": "code",
<<<<<<< HEAD
   "execution_count": 6,
   "metadata": {},
   "outputs": [
    {
     "data": {
      "text/html": [
       "<div>\n",
       "<style>\n",
       "    .dataframe thead tr:only-child th {\n",
       "        text-align: right;\n",
       "    }\n",
       "\n",
       "    .dataframe thead th {\n",
       "        text-align: left;\n",
       "    }\n",
       "\n",
       "    .dataframe tbody tr th {\n",
       "        vertical-align: top;\n",
       "    }\n",
       "</style>\n",
       "<table border=\"1\" class=\"dataframe\">\n",
       "  <thead>\n",
       "    <tr style=\"text-align: right;\">\n",
       "      <th></th>\n",
       "      <th>Unnamed: 0</th>\n",
       "      <th>Time</th>\n",
       "      <th>Temperature(C)</th>\n",
       "      <th>pH</th>\n",
       "      <th>Dosing</th>\n",
       "      <th>Gas_analyser_CO2%</th>\n",
       "      <th>Gas_analyser_O2%</th>\n",
       "      <th>CO2_Flow_rate(ml/min)</th>\n",
       "      <th>O2_Flow_rate_(ml/min)</th>\n",
       "      <th>Dosing_(RPM)</th>\n",
       "      <th>Feed_(RPM)</th>\n",
       "      <th>Dosing_average_(on/off)</th>\n",
       "      <th>CO2_rate_(mol/Cmol/min)</th>\n",
       "      <th>O2_rate_(mol/Cmol/min)</th>\n",
       "      <th>Fumaric_rate_(Cmol/Cmol/min)</th>\n",
       "      <th>Ethanol_rate_(Cmol/Cmol/min)</th>\n",
       "    </tr>\n",
       "  </thead>\n",
       "  <tbody>\n",
       "    <tr>\n",
       "      <th>0</th>\n",
       "      <td>0</td>\n",
       "      <td>0.000000</td>\n",
       "      <td>30.475392</td>\n",
       "      <td>5.603549</td>\n",
       "      <td>0.0</td>\n",
       "      <td>6.640968</td>\n",
       "      <td>20.396430</td>\n",
       "      <td>8.678655</td>\n",
       "      <td>0.0</td>\n",
       "      <td>5.1</td>\n",
       "      <td>2.7</td>\n",
       "      <td>0.824215</td>\n",
       "      <td>-7.452582</td>\n",
       "      <td>2.039622</td>\n",
       "      <td>0.011274</td>\n",
       "      <td>-10.820548</td>\n",
       "    </tr>\n",
       "    <tr>\n",
       "      <th>1</th>\n",
       "      <td>1</td>\n",
       "      <td>0.000278</td>\n",
       "      <td>30.535807</td>\n",
       "      <td>5.602112</td>\n",
       "      <td>0.0</td>\n",
       "      <td>6.640122</td>\n",
       "      <td>20.384183</td>\n",
       "      <td>8.677337</td>\n",
       "      <td>0.0</td>\n",
       "      <td>5.1</td>\n",
       "      <td>2.7</td>\n",
       "      <td>0.823938</td>\n",
       "      <td>-7.454882</td>\n",
       "      <td>1.989599</td>\n",
       "      <td>0.011270</td>\n",
       "      <td>-10.925196</td>\n",
       "    </tr>\n",
       "    <tr>\n",
       "      <th>2</th>\n",
       "      <td>2</td>\n",
       "      <td>0.000556</td>\n",
       "      <td>30.554946</td>\n",
       "      <td>5.595226</td>\n",
       "      <td>0.0</td>\n",
       "      <td>6.640558</td>\n",
       "      <td>20.399339</td>\n",
       "      <td>8.678728</td>\n",
       "      <td>0.0</td>\n",
       "      <td>5.1</td>\n",
       "      <td>2.7</td>\n",
       "      <td>0.823660</td>\n",
       "      <td>-7.454305</td>\n",
       "      <td>2.051447</td>\n",
       "      <td>0.011267</td>\n",
       "      <td>-10.800346</td>\n",
       "    </tr>\n",
       "    <tr>\n",
       "      <th>3</th>\n",
       "      <td>3</td>\n",
       "      <td>0.000833</td>\n",
       "      <td>30.603234</td>\n",
       "      <td>5.570871</td>\n",
       "      <td>0.0</td>\n",
       "      <td>6.640514</td>\n",
       "      <td>20.376400</td>\n",
       "      <td>8.678644</td>\n",
       "      <td>0.0</td>\n",
       "      <td>5.1</td>\n",
       "      <td>2.7</td>\n",
       "      <td>0.823382</td>\n",
       "      <td>-7.454413</td>\n",
       "      <td>1.958305</td>\n",
       "      <td>0.011263</td>\n",
       "      <td>-10.986849</td>\n",
       "    </tr>\n",
       "    <tr>\n",
       "      <th>4</th>\n",
       "      <td>4</td>\n",
       "      <td>0.001111</td>\n",
       "      <td>30.628962</td>\n",
       "      <td>5.562353</td>\n",
       "      <td>0.0</td>\n",
       "      <td>6.636283</td>\n",
       "      <td>20.398931</td>\n",
       "      <td>8.678705</td>\n",
       "      <td>0.0</td>\n",
       "      <td>5.1</td>\n",
       "      <td>2.7</td>\n",
       "      <td>0.823105</td>\n",
       "      <td>-7.471643</td>\n",
       "      <td>2.049785</td>\n",
       "      <td>0.011259</td>\n",
       "      <td>-10.838352</td>\n",
       "    </tr>\n",
       "  </tbody>\n",
       "</table>\n",
       "</div>"
      ],
      "text/plain": [
       "   Unnamed: 0      Time  Temperature(C)        pH  Dosing  Gas_analyser_CO2%  \\\n",
       "0           0  0.000000       30.475392  5.603549     0.0           6.640968   \n",
       "1           1  0.000278       30.535807  5.602112     0.0           6.640122   \n",
       "2           2  0.000556       30.554946  5.595226     0.0           6.640558   \n",
       "3           3  0.000833       30.603234  5.570871     0.0           6.640514   \n",
       "4           4  0.001111       30.628962  5.562353     0.0           6.636283   \n",
       "\n",
       "   Gas_analyser_O2%  CO2_Flow_rate(ml/min)  O2_Flow_rate_(ml/min)  \\\n",
       "0         20.396430               8.678655                    0.0   \n",
       "1         20.384183               8.677337                    0.0   \n",
       "2         20.399339               8.678728                    0.0   \n",
       "3         20.376400               8.678644                    0.0   \n",
       "4         20.398931               8.678705                    0.0   \n",
       "\n",
       "   Dosing_(RPM)  Feed_(RPM)  Dosing_average_(on/off)  CO2_rate_(mol/Cmol/min)  \\\n",
       "0           5.1         2.7                 0.824215                -7.452582   \n",
       "1           5.1         2.7                 0.823938                -7.454882   \n",
       "2           5.1         2.7                 0.823660                -7.454305   \n",
       "3           5.1         2.7                 0.823382                -7.454413   \n",
       "4           5.1         2.7                 0.823105                -7.471643   \n",
       "\n",
       "   O2_rate_(mol/Cmol/min)  Fumaric_rate_(Cmol/Cmol/min)  \\\n",
       "0                2.039622                      0.011274   \n",
       "1                1.989599                      0.011270   \n",
       "2                2.051447                      0.011267   \n",
       "3                1.958305                      0.011263   \n",
       "4                2.049785                      0.011259   \n",
       "\n",
       "   Ethanol_rate_(Cmol/Cmol/min)  \n",
       "0                    -10.820548  \n",
       "1                    -10.925196  \n",
       "2                    -10.800346  \n",
       "3                    -10.986849  \n",
       "4                    -10.838352  "
      ]
     },
     "execution_count": 6,
     "metadata": {},
     "output_type": "execute_result"
    }
   ],
   "source": [
    "data.head()"
   ]
  },
  {
   "cell_type": "code",
   "execution_count": 11,
=======
   "execution_count": 3,
>>>>>>> 414f782ab4d7aa645846effbb20e57a09767c1d7
   "metadata": {},
   "outputs": [],
   "source": [
    "time = np.array(data['Time'])\n",
    "r_co2 = np.array(data['CO2_rate_(mol/Cmol/min)'])\n",
    "r_o2 = np.array(data['O2_rate_(mol/Cmol/min)'])\n",
    "dosing_avg = np.nan_to_num(np.array(data['Dosing_average_(on/off)']))\n",
    "dosing_rpm = np.array(data['Dosing_(RPM)'])\n",
    "dosing_raw = np.array(data['Dosing'])\n",
    "comp_co2 = np.array(data['Gas_analyser_CO2%'])\n",
    "comp_o2 = np.array(data['Gas_analyser_O2%'])\n",
    "flow_co2 = np.array(data['CO2_Flow_rate(ml/min)'])\n",
    "flow_o2 = np.array(data['O2_Flow_rate_(ml/min)'])\n",
    "temp = np.array(data['Temperature(C)'])"
   ]
  },
  {
   "cell_type": "code",
<<<<<<< HEAD
   "execution_count": 9,
=======
   "execution_count": 4,
>>>>>>> 414f782ab4d7aa645846effbb20e57a09767c1d7
   "metadata": {},
   "outputs": [
    {
     "name": "stdout",
     "output_type": "stream",
     "text": [
      "2.0553174356699513\n"
     ]
    }
   ],
   "source": [
    "# volume test\n",
    "\n",
    "i_start = int(len(time) * 110.5/time[-1])\n",
    "\n",
    "sum_avg = np.sum(dosing_avg[i_start::])\n",
    "sum_raw = np.sum(dosing_raw[i_start::])\n",
    "\n",
    "error = (sum_avg - sum_raw)/sum_raw *100\n",
    "print (error)"
   ]
  },
  {
   "cell_type": "code",
<<<<<<< HEAD
   "execution_count": 10,
=======
   "execution_count": 5,
>>>>>>> 414f782ab4d7aa645846effbb20e57a09767c1d7
   "metadata": {},
   "outputs": [
    {
     "data": {
<<<<<<< HEAD
      "image/png": "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\n",
=======
      "image/png": "iVBORw0KGgoAAAANSUhEUgAAAX0AAAD8CAYAAACb4nSYAAAABHNCSVQICAgIfAhkiAAAAAlwSFlzAAALEgAACxIB0t1+/AAAADl0RVh0U29mdHdhcmUAbWF0cGxvdGxpYiB2ZXJzaW9uIDMuMC4zLCBodHRwOi8vbWF0cGxvdGxpYi5vcmcvnQurowAAIABJREFUeJztnXmcFNW5979P93TPPjAMDDsMIAq4salxjQoiLoHEJZrENd54TaI3iXKzJ+Y1uYnZV9+r5qrJ9U00LlmI0WswRr3GBXGJiooiooAgKDuzd5/3j6rqrrW7uqd6eqbnfD8f6O6qU+ec6un61VPPec5zRCmFRqPRaIYGsXJ3QKPRaDT9hxZ9jUajGUJo0ddoNJohhBZ9jUajGUJo0ddoNJohhBZ9jUajGUJo0ddoNJohhBZ9jUajGUKEEn0RWSwia0RkrYh80Wf/ZSLygog8JyKPisgs274vmcetEZGTo+y8RqPRaApD8s3IFZE48CpwErAReAr4iFLqJVuZJqXUbvP9EuBTSqnFpvjfBhwOjAMeAPZXSqWC2hs5cqRqa2vr00lpNBrNUOPpp59+Vyk1Kl+5qhB1HQ6sVUqtAxCR24GlQEb0LcE3qQesO8lS4HalVBfwhoisNet7PKixtrY2Vq1aFaJbGo1Go7EQkTfDlAsj+uOBDbbPG4EjfBr8NHAlkAROtB37hOvY8WE6ptFoNJroiWwgVyl1nVJqGvAF4KuFHCsil4rIKhFZtW3btqi6pNFoNBoXYUR/EzDR9nmCuS2I24EPFnKsUupGpdR8pdT8UaPyuqQ0Go1GUyRhRP8pYLqITBGRJHAusNxeQESm2z6eBrxmvl8OnCsi1SIyBZgOrOx7tzUajUZTDHl9+kqpXhG5HLgfiAM3K6VWi8g1wCql1HLgchFZCPQAO4ALzWNXi8gdGIO+vcCnc0XuaDQajaa05A3Z7G/mz5+vdPSORqPRFIaIPK2Ump+vnJ6Rq9FoNEOIihP9P//5z7z99tvl7oZGo9EMSCpO9JcsWcIxxxxT7m5oNBrNgKSiRN8an3jjjTfK3BONRqMZmFSk6Gs0Go3GHy36Go1GM4SoKNHXaDQaTW4qSvS1pa/RaDS50aKv0Wg0Q4iKE/0Jn76VhkP1Al0ajUbjR0WJfjqdJt7QTMviK8rdFY1GoxmQVJToazQajSY3FSX66bT26Ws0Gk0uKkv09UCuRqPR5KTCRD9d7i5oNBrNgKayRN907ygt/hqNRuNLRYl+xrkzyN08W7duLXcXNBpNhVJRoj/YxR7gL3/5C6NHj2bFihXl7opGo6lAKkr0KyF657HHHgNg5Uq9frxGo4meyhL9CrD0dSoJjUZTSipL9NPmAK4WTo1Go/GlokRfS71Go9HkprJEP+PTH/zyLyLl7oJGo6lAKkv0K8Ct05uGpsPPoALGpDUazQCkqtwdiJJKGMhdw3iaTzia1d2byt0VjUZTgYSy9EVksYisEZG1IvJFn/1XishLIvK8iPxNRCbb9qVE5Dnz3/IoO+8mI/qDWPt7iJuvFfUQptFoBgh5LX0RiQPXAScBG4GnRGS5UuolW7FngflKqXYR+STwPeAcc1+HUmp2xP32pRLcO8q8Y2mPvkajKQVhzMnDgbVKqXVKqW7gdmCpvYBS6u9KqXbz4xPAhGi7GY5KEH2NRqMpJWFEfzywwfZ5o7ktiEuA+2yfa0RklYg8ISIfLKKPocnMyNVmskaj0fgS6UCuiJwHzAfeb9s8WSm1SUSmAg+KyAtKqdddx10KXAowadKkotvPWvqDWfWNvuuQTY1GUwrCWPqbgIm2zxPMbQ5EZCHwFWCJUqrL2q6U2mS+rgMeAua4j1VK3aiUmq+Umj9q1KiCTsBOZiB3MAumdlFpNJoSEkb0nwKmi8gUEUkC5wKOKBwRmQPcgCH4W23bm0Wk2nw/EjgasA8AR0pGLgez6Gs0Gk0JyeveUUr1isjlwP1AHLhZKbVaRK4BVimllgPfBxqAO023xFtKqSXATOAGEUlj3GCudUX9RIo1I1dEhztqNBqNH6F8+kqpe4F7Xdu+bnu/MOC4x4CD+9LBQqiEyVkW+llFo9GUgooyiTNZNgcxlXPb0mg0A5GKEn0dp6/RaDS5qSjRrwSyg9Hl7IVGo6lUKkr0K8mnr9FoNKWgskRf5yPWaDSanFSW6FeCpZ/JJKH9OxqNJnoqSvT1QK5Go9HkpsJEv9w90Gg0moFNhYm+Vn2NRqPJhRb9AUYmT2gBLv333nuPG264gWeffTbSvrS3t/OHP/yhIr5XjUZjUFGiXxEDuUXwq1/9issuu4xLL7000np/9KMfccYZZ/DQQw/lLbthwwb27NkTafsajSZ6tOhXAF1dRibrjo6OSOt98cUXAXjnnXdylnvggQeYNGkSBx10UKTtazSa6Kko0a+kxDWFBGxaOYeiXnjFqi9fTqOtW41s2m+99Vak7Ws0muipKNGvBEu/GP95qXzusZjx88gn+pWQ6E6jGSpUlOhXwoCjZV0XcialsvS16Gs0lUeka+SWm0qw9IthVypJ88LL6GFHpPX2VtUy7OiP0JsnvYUWfY1m8FBRol8Jln7Gm1/AubyRGk7TvEPo2r050p681TCT4cfsz2t7duYsl0qlSY6eRmpftDcdjUYTPRUm+uXuQQRYml/AIdZ5R336PfE6ALrzGPKv7k0w9qKfktqX++ag0WjKT4WJflb2HnvsMVasWMHUqVM5//zzy9irQinc0i/Vvc4aIsiXvbSj13iN1w8vUU80Gk1UVJTo2336X/7yl3n44YcBOPvss6mpqSmqztdff51UKsX+++8fSR9LQUaTI37UsYaF842VpCriEUujGRpUlOi3t7dn3vf09GTeFzvQuH37dvbbbz8ANm7cyPjx4/vWwRBkA3AKsPRLJLpWV1J5B3K16Gs0g4WKCtm0hyzahb5YUdy7d2/m/e7du4vvWEGYIZsFdLlUhraE9DQN1agpjWYwUlGi39vbm3lvF/piRd9+XH+FJWZvW4X79FXEC69Yte3bty9nOW3pazSDhwoT/VTmvV2wb7rpJtasWVNwfXahH8ix6KUytJUyzjmZZzykWEv/nXfeYcWKFUUdq9FoiqOifPq9qazot48+hFFnLqZ35xY++9nPsnjxYu67776C6jNuHAIiRYv+li1baGpqoq6uLlR5EUAVJuQZ0Y14Rm48Hs4mKFb0L774Yu677z727t1LfX19UXVoNJrCCHVVi8hiEVkjImtF5Is++68UkZdE5HkR+ZuITLbtu1BEXjP/XRhl5920d2fdOx3j5lK33+E0zV+CVFUXlYGyvTvFxM/dwaQr72ZnR2/+A1wsX76csWPHcvDBBxdwVBE+/cK6VWBPQvj0i3wIsm7C9kF3jUZTWvKKvojEgeuAU4BZwEdEZJar2LPAfKXUIcBdwPfMY0cAVwNHAIcDV4tIc3Tdd5KyWfqOPJXi9PeHZVdHL7FkLVKVKEj077jjDs4++2w2bzZmyK5bty7vMalUilNPPZUnnngcAFVU9E7UPn1l9iU3fR3IrYyZ1BrN4CCMpX84sFYptU4p1Q3cDiy1F1BK/V0pZcVLPgFMMN+fDKxQSm1XSu0AVgCLo+m6k7179/K97/8g2yfHXilY9P/0pz9x7Xe/m/mcKsCcPeecc7jrrrsKErO9e/dy3333ZVwqzc0jQh9bqhm5VoXpPDeTXUVGNoVN3azRaKIjjOiPBzbYPm80twVxCWA5zws9tmg6Ozt5b3s294vD6pfCRf+cc87hf/7nf2z1FS5MhYi+VfaQgwxXkMTCj7FnWonYp6/E6ENXOne91TW1RdWvRV+j6X8ijd4RkfOA+cD3CzzuUhFZJSKrtm3bVlTbI0eO5L77/5r53NXVnXk/8bO/Y8+U43Me39vb6xCfrq4uh4gWYulbuEVfKUVvb6/vDcgqm0mtXMQNI2riGOecIN+5h7/ZpNPpzPnXHXA0Yy74Ed29qTxHaTSaqAgj+puAibbPE8xtDkRkIfAVYIlSqquQY5VSNyql5iul5o8aNSps3z04Zo7aXfoSo3fYRO8BJj/4wQ9IJBI0Nze7lgbsm+jv6Y0x/LgLqZ91PACXXHIJiUSCZDLJ7bff7iibFX3rc/h2svH50Vr6YR1GYX36vb29TJkyhUQiwXXXXcfwhZdRPXZ/2rsKH2/RaDTFEUb0nwKmi8gUEUkC5wLL7QVEZA5wA4bgb7Xtuh9YJCLN5gDuInNbSXDkfRfnqbV3dhHEK6+8Ahizbrds2WKrIyuiN9zwS0488UQ+8YlP5LWs6w88gdazv8Ha9lqGHXk2Iz+wLNPOlClTUErx2muvOfueSjP63P9gbXIakL0J3Hrrrfzwhz/M2Z4qUchmWMLenzo6OjJLKr766qtIVRIo7oaq0WiKI6/oK6V6gcsxxPpl4A6l1GoRuUZElpjFvg80AHeKyHMistw8djvwTYwbx1PANea2yGnv7uWHfw2egJWsDp5gZBfx733vezz44IPUTD6UpiPOzGx/cuVK/v73v/Nf//VfdHZ25uzLyNOvonbqfI8FrJRi6tSpnjYB9nX1UjP5UOLKcHUMTxivF1xwAcuWLcvZXlTOnddee40f/ehHvPvuuwUd15EON90jaJZ0MeMlGo2mOEJdrUqpe4F7Xdu+bnu/MMexNwM3F9vBsHR0p3h+467MZ4nFnQXcn23YBei3v/0tK1euZNQZ1xJL2m4UNis6rA/dXUoplVmC0F2HdYOYrLawTsb7HJ2jnexIbuhj/Lj66qu57bbbSCaTXH755aGXbrRuVCqd2zcfKPra0tdo+o2KScPQ0lDN+mtP44OzxwGQbJ3iLCDBp+qOHunp6XEKvuv40KKv3J9ziH7aNZBbQD4b5XotFmsCm3uyVP7zNb8/lVu8tehrNOWnYkTf4t8Xz/DfkUP0tyXHMPqj1zLqjK8hiWpfkZMQlv7pp5/O6NGjA8u1j5nNm/udyeiPfIetKWdaBqtszFq4JMSN5a233qKpqYn1b75pdTLvMWHIDCqHLh+uXDqdpuW0Kxn90WvZGmvJHKgTtmk0/UdF5d4BGD+8lqr2bfTWuaKA6oJXdXq3ejw1Iwxfe9XwsSiV8ghectwMEiMn0btra6DoP/jgg0yfPh3LyWQv9/GPf5yttVOprR5BzaRxvJ3e4Dg2bRd9lbXaq5rHIQn/8Yg777yTPXv2kGjvoBGIKnqn0Lj5tFKhmt7XlaLhoBMB2Nr1RmZ7b0qHbGo0/UXFiT6A+GlySCFrPetqWPuIZ/uIEy8BDL91d69/XUopFi1axJ3mZ3sI6S233ELrOd+ia+t6qsfP8FjHltDGREBlP4/+yHeoamwJbM8gnNjff//9xONxFi70H4LZVT+BUWd8lXd7kq52cteb3S0opRxPRXbSNvePPcGDdu9oNP1HRYp+b0+3d2M6OBbcnuemqmkUav/jA8tKLE5vgEi5BW/3nj0QH2M/OpOu2K2jWUvfnKVqFvAT/Pb29szYgFmt+Ros/m+//TaLFxsZMLZv305zszcF0nvDZlA3oY0NPVtc1eVZOStz78kt+g6fvq1OHb2j0fQfFefTB6hOJny2BguX15ItbnlAt+A9/Mj/OvYbaZOVb5tun36QC2nfvn3U19czduxYW8X5/4z2LKNdXcFzFvzazudxD7tgjWOX7b229DWa/qMiRT/ma2gGW8HeFadyu0uChK3lnG9zpxxjq8b99UomwiUoeicWsyx9/zZ27TJGDHbu3MnOVILJX7iHugOONuuExYsX+4p6IauAeZvO931YxSSn6Kcdln72QD2Qq9H0HxXp3hFf2zS62apBlmli1BSa2ct7NBkbbC6YESd9kprJh9Cz03CdKOCf//wnv/nNb5gyZQrvO+Fk4xCzm8888wxf/vIa4GhHG3ZRXdfZAEC8xnitSiS4//77eeedd5g0aVLgcflCMAtJ62zUZ7yKxHKLftol+iba0tdo+o+hI/o5/N2eSVQiOW8RgbImQiu7M6IvNku/ce5pACSGj0GpNErg5z//OTfddBMAjz79AgA1NTXQBWvXruOp393D5C/c42zbbrG7BLam1sh2mfKJhlFKkWiZiFIqUJgz8f6WiPu06UeacDcUxz5FZsS9u6d/c+/s2rWL7u5u+pLnSaMZrFSkeycVS+YvZMMrVHncGYHuCHHcW4Yfe15Qg6Cc4myFLSbixszhH//kJ76HptNpGucvpeHQkzODwm78RP+9fT2M+5f/ZPwnrmdPZ+6VqrKWe7hVvOz7c7mOgtw7xaxf3BfGjh1La2trv7ap0QwUKlL0q9I+Pu2cQl6Y6ydw4pRA7mcEe3+Ur5/dfzwiy+7OXkYs+AQti6/w+MLTSog3jvQV/fae7LaDZs9l0aJFVFdXE4/H+cxnPmN136ynsDm+9lK5/PP2G4IC4lXGg2a8ym/gvXQUs3SmRlMpVKjoey3ZXJNVveOWuZXXLWzbt2/nwx/+MG5LP7hBZRj7PknHYnny3dj9326ruistjL/sJna2e0NW7fcpkRgrVqzIuDheeOEFZ9kiffqQeyZx2u3eCXGMRmPxj3/8gzPPPDPU8qOaYCpS9DO+aFsCsFyWvk/ShZz1p11ulWeffZY777wT8owFuNt8t3ocYy/+OaPO+GpmIpd10/jPh99gzIVeF4/dtWQXy1jHTo5p7UVicfZ2+fv0M9juTOPHj/e6twrUYIelnyP/jnK5dyQTvaMHcjX5+cUvfsHvf/97HnnEO3lSE57KHMi1puSGtSALc+l7yjtEK5TqG5b+jmQryRFTSLZOocN0vzRUKS46qo0N2/fxzp79PEfaJ4bZZ/zGUp1MrK83yvi4d5zWdLaTMZ9lGdOuckGWv1KKN954g87OLjAzReR27/hH73Sm+ncdgKrmccSSxS3xqCkf1oprpVopbqhQkZZ+BrvVWUD0TpByW08OfnnyrTZC2fpKeVrNxOkLfGPJgfz83NkBfVCeY6weW4uq9/gsP2i/UOL1Rh6iWE0DVDdkZtR6onfyrOJ1zz33MG3aNNa98YZ/ARce9475+b2u/hX98ZfeyNiLftqvbWqiQ4t+36hI0c9mD0j7bfUQ2qdvuSNcP7qe3hT1s45HJBYwR8C/Kr9YdStiRgJGdFO2th997HFHhVWm6Pf2prj++us54IADWL9+vb3rAIy98CeMveQ6Jn7mdrYds4x3py12987oQ55zsBZbOfqY7IS0oAvyd7/7HYsWLXK0UNVprKcTi2wZGE0l0xOvof7AE/HxXmoKoMJF39+PXUANTsybiNuF8foulVkSMRRK2Q1dR51WN2MBqRUcbdvOSVBUma6anlSKH/zgB7z66qu8+uqrxnEuMU6OnAxAvGs3vcnGTL9sLyFOwyg4adJk//7ZWLZsGTt27Mwea9uX0pabJgSbmmcz8vQrWbO3sJBsjZPKFH3LLZFnJSeL0JoTZOmnChUt5WnTbenHgix9m09fXDcGy73T3dObEWRrvCFobkGsZ5+tV87XfFhtOAdy/Y/u7u523UvtE7pCNqgZ0vTGjYGjgCS3mpBUpuibrzGHJVxA7p3ApwJLSN3x8cpTJh9ur74lzlY/g3rgaNu2BKQA6ZQx0LXdZlFb9QaJsdj7EZALp6fXf8bsji6h5fSreHrjXk97nnZEsJ+Vw72vVV9TAPrn0jcqWvQdslrQWGFun75b2AsWLZ/ylovDMvDD5KSvnjAz8z4mMLzJSP+QSCZRyTqqJx2cifAJFH2lyEbpONu0bpoPrHiA9vZ2z7FvtCdpOPAEqmxPJYEx94kaqscd4LtLX8SaQih0HonGSWWKfjZpjH1rYPnwA7n+VnOqiCyRSimXpW/59MNb+jUTDsy8nzJlCnFTfK+8ahl7Z32QMR/5Dut2+Wf1tPAbeLZuK1XmjFkEdu/e7VPOOPZnZ0znmAZjUDfIjZR43/mM+uCXMp/DuIQ0Gj9uvfX/8dRTT5W7G4OWyhR9zxuiWT/WFKe//nUFq1evtm0u0qdvO8yKrZeMpe9/ZNBAaWNDvSMtc2JUGwAdvbktfcNucs0CVtk92Xa9bhuryphkZyL/5/XX+6Z2jo0/0PHZ4RDToq8pBBGWLFlS7l4MWipT9C3BjFfbtwaW91r6QV+LUfIrX/kqJ598cmar3dIPpV/K69NPuS39ANVPBcx4jYlgjSfH6rKrYmXEOqBffq2orOpnt/mcWHbhF8lkrPyPb3+blStX+jfmbMSW6yd/cY1GEw0VKfqW8sY6dmS3RWjpI7Bp06bs5oJ9jMpzjNu9E0SQpR+LwfAawx2jUt2e8sEDubYblmXxu4o2H38xXT7pjzOWfizGzBkzMtt7AwZ+Hcc66tGqrykEyXudaIKpTNE3CT1RymXvBv6gsktEOTYXvvKTylj7FpmQTUdzfi4V/7Y+fvSUjHunce7pJIYba/N++zvfoa6ujvPO80/zbHxHzvOxWqgiG/K6s8ObxM66kcRj9kRzAatn5cqzH7hHo/FSN+MYpKax3N0YtFSo6Bsy0tRYb9uWK82mS3byhGzGkrUOF1DBA5E+7p1sGgZb2zmifOzE925lwczRmWPrph2W3SnC8ccfn687zlefKKW0z+LlVjn77OF4Q3Moy91+o9XLJWrCYP1KattmEz/h8rL2ZTATSvRFZLGIrBGRtSLyRZ/9x4nIMyLSKyJnufalROQ589/yqDqeE1N0quLZOHY/zV+5ciXXX389nV3uVMS5o3fGXXIdLadcYWuuGPeOk0ycfp6nVj+BtJ5ofJ9QJMZHPvIRhg8f7lufr6WvnK/gf7OxtsREqEkY3/X4T9zAht0hVsKyjxdoW1/jw+7du7npppu46aabzOgx27yb+pbydWyQkzfLpojEgeuAk4CNwFMislwp9ZKt2FvARYBfLoIOpZR/9rAS45zU6hXECy+8kFdeeYXWc76FI+digPLatzYcfFLmfcGWqo+byKpC8lj6/m1ZbhbvPTyWrGNvbwypb/bs86/Ff2ZuytfSN9uQGGfMHc8zL63l9692sqc7jKXvrUejsXPbbbdx2WWXAdDT04PrV1OWPlUCYSz9w4G1Sql1Sqlu4HZgqb2AUmq9Uup57Fl5y4n5e0iI7YfhI+SdnZ2cddZZHHvssd4qUj7WaoA6FRNnrlzVudMwBOHXlmXp+6VuGHn6lXx3zXBqTvqstw8qjSiFyrQZvDyi3+LlmeideIy6ZBUHjkoE9jEXeiBX44c99Lerq0sbBxERRvTHAxtsnzea28JSIyKrROQJEfmgXwERudQss2rbtm0FVO2P5S4Yn+zgx+ccyji2+4q+Uor6+noSiaQzpD8WR3W3U5du5xun2nPa+//qCv8xKq9P3zUjN6g9f/eO+Rpwv5jb7F1Jy6he+XqylG23X7snnXQSd999t8O9Y38NM1lN2TqsJ2dp/HAsuqN/I5HRHwO5k5VS84GPAj8RkWnuAkqpG5VS85VS86147yioEvjQnAmMkH2e5GQA6cYxvFM7ma17Oj1r0yqEMel3OWH/kY6tfhSVJdJ1SNrP0vcbyPWxuDOWfoDqT29Kozr3FNol53KOtnYfeOABzjrrrMyNwJoJbD1p+F+gOaJ39PWs8aE7BXUzjqVuxrF0FZzUUBNEmJWzNgETbZ8nmNtCoZTaZL6uE5GHgDnA6wX0sWDcFmiQw0SOvIiXh02Ebftoromxo9OewdJpvYKRp8ZXzorIveO29F966WWIH5LXvePXlrXsoN8qWJArGEmZCdfcA7lGfXl9+q4BZGtMIcwQhzLbd7fTn6xevZoDDzwwf0FNWXi5o5FRS79gvt8MeGd6awonjKX/FDBdRKaISBI4FwgVhSMizSJSbb4fCRwNvJT7qL5TX99gvtZa/QB8BLMqycjuLTy07Hj+7TBX3G+sCsHtJw/w6QcsA5gLd7nf/+GPADQ0NNgK+bh3ctxg4gHpmOM5Zhg75wUYr6l0ms7OTkfqBfv7quFjkUS1Y3IWZF1Tfk8jvgT9XfqJgw46iNdee60sbWvy06Oyv84ez09KW/7Fklf0lVK9wOXA/cDLwB1KqdUico2ILAEQkcNEZCNwNnCDiFiJaWYCq0Tkn8DfgWtdUT8lYd68ecbr3LkY/bPOxV1SqFI9tI2sJxF3fhVSlQAJJ/oO0QrxWxT3zCxjIwCzZs60bQwp+ir3IHAuS99eoL2jA4AXX1xNbW0tjz2eXZnL7sIa/6+/pPXMqx25dyCfe8fVtO19OX3677zzTtna1uTG4dPXczkiI9TC6Eqpe4F7Xdu+bnv/FIbbx33cY8DBfexjwVjiY7kbLJ+3x2ctYhuEdO0UQRTE7TnrA9w7RUfvONqz+pobPzcLeXz6sVgs0HFun7VcXV1NCjjqqKM4ZuEUVnaM5pkuZ7vWhVgz+RAUm4Hs4i053TueLz/Xzbj/0AOEAxdPgKbOvBAJFTkjN2uBWluCokQkcGKTSAyx3RTMmn3bCzJCfvuJIziszSc+Xim279jB229vzmxqmvcBs12fEwGeffZZvvWtb3HvvY57r3kWBkE+/aBVuLzzBYzXefPm8cUvfpEjjzoyU9Ry2dhFMu2y9K3vMGghFUfTSCYkr1y62zDnVC36Axjnb0353AU0xVCRon/UfiMZUZ/kgDHGoiKWkHrCHcV/wNZRxCaYfiU2b95MUJjpUdNGcva8iZ7tiUSCHTt2OBS+ZvKhjKxP0Day3lMe4LTTTuNrX/saf77nHu/OzEBugKUfaCFZA7nmp7gRZ79tbxfPb9zJ1t3ZgbOcWTbNm00846MPas+Jla/f/vyklOLNN9/sFzFuWfQp1u3Uq2wPVJwhw859YfNqabxUpOgvOXQcz3ztJI6cZkzVzqbwdVugtkUU/TIYiDOVg5+ozp07l3v+krW+3T/Fuuo4blpbWznvvPM9jf7qYwcxbZRtINdW2+bNxlPBQw894u2o1b8g947EfHpmImTj5auNwex7X9jCkl/8gzuf3pgpZsXeO2Onne1abh5fd5cnJDZbl738Aw88QFtbG3fccYd/fyOm8PWNNf3FQBn3qTQqUvTdZFw3Hu9ONjtkkGAmEtlhj9aRIz37d+zYkRk4NppwNnLygWO49ZLDufvSbBI0EdjXnSLRPNbZHe9kgey+qiRVI8YqeHKUAAAgAElEQVSzZY/PRKs8TytB21EKx6Tlrn0ketu56cL5mX8faDMnXJk+fT/XjXUztL5n38lZrov2vXffZW9Hp2fXCy+8AMCTTz7p3+ciWLZsGSNGjMj8c3RLW4wDFj05qzSEGsgd7GQtfa9P37rr+UW+CI5nAd/cNkopWkeP5k3btpENSd7da4hzIh7j2Omj2LlnX2Z/bSLOipe3khztnKcW9/Qh298Ri6+g4cAT+OzvnvOeoC0dgh+xmAQY+sr8crLtNnZtY8HM0ZnPTz1tOID27DUWP3eEp9oWUbG/hrlAJ7W1sUfq6QD++fzz3HLLLVx88cV5jyuGxx9/nPr6ej70oQ8BznhjrSWDg4GR36UyGCKWvvHq9enHbMsT+oi+OAdW/QzmphMv5SWcfvu7P3kU//NZZz4fe/2/+OhcfnKONwedx9K3KXXDgScA8NNzZ3P6tKS3I/jdNAxyWvr2j+JdnEKZyzha4mi/cVoXonWzybp3vE1l1ts1mTVrFvtNNHL+79ixkx/84AcA7EvFGXXm19mrqj11FMPf/vY3HnvsMWbMmMHPfvYzfvaznzn2awty4OLw6eu/U2QMDdE3Xz0+fcna8X7CKAjVVTEuOqqNBTNamTHMa2/UHbjAMxwwuaWeGeYgsrsPAAeMaWTJoeM8dXmeJHx+50tnj2fu6ITnPMDvpmFguF+CQzbt0u+uobGxweyKn09fOfpt3XT8XUDOc9u4o4PNuwz3zv7775+p69WuJur2O5w34p4I4ILp7Oxk4cKFJEa1sb3lYP778fX89+PrHWW06A9c/MaPbHv7tS+VxNBw72Rmivq4d3JY+tb2bywxpup/86aNPgVgcuw9aqpiPN09lqBgYm9IqLeM98Zj9PcAeZs1alxwOZf45q/XWX+2M+KJisiGYRqf0zkGciWzMHuOtoBkVYy1W/dm98SqMsdYpdIRBGUb6XhhxIJLeW/yIXz9T6s9ZSy3lWbg4R3Izf4m9L26eIaIpW/6mk1luf7665k3b57pzrDK+BwXSneMcQHLtRGc/8Yt+t7Kg451u208LhhrBavAyVlB7h3XOYp4ztkS4z09Ppa+qz/WTcc/P1DW+r/h/Hk8/dWFrPzKAmICbzcfSvcRhj8/d4BsYWT6UZWgZvcGnv7qQp7+6kJaurdkysRi3ugqzcDAMdFduQbd9UStohkaom/59M1f0c9//nOeeeYZxObDDnKNOOsJiOsUOPSQQ4DsazF4xNk33bLXck/31dLPfPL69GsTpusGb3hl5mZjfo5nLH2v6Nd2vgfANz94EEdObaGloZrWxhr+78fmUde9A1U3wqdHfSOdTtN8wiXUjJ8JKkVLQzUtDdVUq4BU05oBhXP+hnuvVv1iGRKib+G1QG3ROz4/IvcWryYbpnJMhGHDhgEwbPgw37bzZc806g9nqbs/57f0/f/Miaoq8xyD7etE3CnkKu29EN2D4X7unc6ODmJ73uH8903OLK0IsPigMdT07PZk+oxC/vd1p2g6/EPmp+x3YG+po1f7CQYq1u9LqTQ7du50LKqiKZ4hIfpZMTJ+Rb2jpjPi5E8Tq67Lxun7WPr5XDLpdNpI1xBRPz3ibFnwecYDWlqMSWjBlj74iejw4cOcfRfvrS8Thml+9k5wy34vVfFg986+9nZSvf5r59qjRqN07zijtbLvBe/TimbgkfnLKMWaV181ZrFr+syQGsi1RL9n5qk0DjMW/3LnjXEc56nHK/rW9uMPaOUvL2zhpFljAvpQuKVvxdV4LH1XucltUwBvWGSmnoBcOGkFcaNzVi89NxR3Wmq7Ru7avQfVkK075rq52qlKVFFdkz8MM0oJdgq67XYSbrBGU2asv191ooqPnXc+m/emeHpLj7lX/w2LZUhY+tZJWq4JFcuKYzZk0+dAjwA6P1uWpAgcNH4Y933mWGZPHO7bhzA64/XpGy/uPPnucj3mbNnmZn/XUmNjo+8lMqw2YfbLFHYRz/fg9tPbBb2hocFxF7CeVG655Ve8+uqrrtaEqir/QVN7H6IkTGy3tvMHLirz+48xduxYmptts6m15hfNkBB9i+uvv96TpbKjo918F8LSd30Ou5h5WNziXldvJF+bNmWKsx+u9uqSVWb//PtRXZ10iHNL+1vcedmR3PaJ95kVZmoOdO9YNzi7y8QtqmPGjLY6yCOPuHIEtU4nzJUa5bXst54wOG/A2rsz8KmKCb958i0eebXv62drhoh7Z+TIFngLvn3ttTRUKUac9+PMvmFNxiSqlhHNONd/h+HDnVZ7kHsnzJ0zOILGXr+zptq6Ojrbe5g0cQKsfsW3rq+eNpOls8ebx/vXG487LexpbZM5rM2wmhyTs3xCNr3unaxKdqgqxFZ3dcKaNCaeCVqqax+qxn8msXswOSoc4aW26t1ONM3AxPrzfX7xAax+ezdKwe9WWdeoNvWLZUhY+nPnzAHgX//1Mrq7ux0/F0vkmpu9bpnZs52pEtzCncoTNVMobrdNOvN46ypnCXE6zb8cO5VRjYavvLGminHDajz1xmMxktVZf/rYcdlEb07BFY+tH3O5d+xCWpXucZS1voeWxZfzdod3ULqxt38H4oKSqWmf/uBAoVAqzflHtnHtmYfw3bOKD4fWZBkSom8p+/rkFBJt8xy7ulX4hx1PfHzKcu+E6UL+Qm73zrJF+/PB2eMcCdCcdTlFrboqzmNfWsDhNVsc24fXJRgxwmcxF0yHTlbzPT79rKVvtuiaMaN6smF0IxuSLNzfeIJ4u9P1vYoQFOckUhp7O2iJPXsvdPTOwEUpcvjf9I27WIaE6E8eUUc8JrzEBIYv/oxjX0PcCCNsqa8mGY9x4oxWknEjEVtbS52jrHe2qvLd7ke46B3nn+P8I9v4yblzXDn2bU8EAReE++aUiMcdyz6eNc+W18YcRF25ciXKPUPXVpdf7vuUUmAL4RQRli1oM8p5Aoa8riNnF6KP008HRu/Yy/S5mbLR29vLlVdeyYUXXsjDDz9c7u5ETs4/jdb8ohkSPv3j9h/FK99czNKv3cSLsRbHvox7pz7JK99cTCwm9KbSKPAslj558mR4/s3MZ2sgN4y/PgyB6RLc5QIsfQt3dxJVcWaMaWTTzg7u+8yxzBybTQZnuXd+/etfQ9WxjB3rzPGfS/SVTx8SZoROr2epo6BhZn9eeeUVfvvb37Lffvtx+OGHF3BklqDonUrRi9dff50f/9gYn0qlUrz//e8vc4+iRaECDZtBfK8uO0NC9MEQ8Lh4B0vtOmuJblVAXvpxY8eCLXO+tbBIGDkLN5BboOiHtfSr4nznzINZtX4HM8Y0Ots0/0un08RiMabvt5+zLtdi53aXSToNxJx9sFYacwuuymfpm1hJ0jo6OvjYxz7GsGHD2Llzp/+BeQgTvTOYsQ+WV6SbSmX+86FC/ohlYEi4dyxiIhCLOS6QQgb1ghOdRdi/ECSrkznLuzfH4zFaG2s49eCxAdk+hU4SSHW9p07rRuhn6afB4d4BMrH4noymOSx9e5x+RshEuPTSS+no6Ag4KgRBlr7tHAezWKbTaWqnHUb9QSfSId4B/MFOLs3Xkl88Q8bSB9Oqd4teAT+fEfVJY9DR/CFm4/TzHxvm5hL25jF1yhTgLWoCZri67+SJgElRFkop/vRqB02HwchGZ1ilO4WFXSTTSuFYbxFImrOC/azsnN4r18k3zV/Kat6j/n3tAQfkJ4yNOJhFf/OeHlrPuhqADXvWlrk30aNyqL49Gk1TGEPK0jeyajoXCS/ESt+vtYGnvrKQUb1bSbfvzAhhONdNiP6F7Id7eULPfpe6JgLSMwDsv/90wwqvMsT+k+93LuGYHTP2pmEwNN95UQYuji7eDJ6ZXRg+6S996Uv89e/ZSV3baKLxsDMD+56PMAO5g5mu3uxTVloq71LOfTsO90e89957ufXWW6PoTsVQeb+UHGTFMPuDCTl2mmFkQzW1yljx6ZGHDYHqb/dOY40h4ktme1ffAu/l0Fhf51sOYPKkSSQSSRBBdewKTDJnGe72hGubt2zxuHcsSz/lid6JBX7XYj6Bfe9733Ns3y+2tU/P8YE+fdv7wWvnu9c2qJA7mQ2lvAO5tWaG1irV43eIh9NOO40LLrgg8r4NZkKJvogsFpE1IrJWRL7os/84EXlGRHpF5CzXvgtF5DXz34VRdbwYrGyVDvuvCMVOJpIopbjIXMg7jIsoSvdOS0M1T3xpAd9celCotqqT/jNhwZgbkIolaJx9SsB+Z+ZMu9Dsa+/w3KiqqoIt/dwIV1xxBWPHuVcIK17Mglw3FePTdzx2la8fpcV5Yo9+4QQAWnq2lqMzFUFe0ReROHAdcAowC/iIiMxyFXsLuAj4revYEcDVwBHA4cDVIuI/S6gfyGQetj0KFyP68+fPZXjzCBYsXGjWG42VVUhfxgyrCYwycm/P1b9zDrMt6u634pU7ZNNuPUuMMaNbHeWtm8TOXbvdFQVb+kBVYwv/TMygY+oJju2IFC3MfmmgM/VaDGKxdKxtUMZ+lAq/P3tLQzWqYzcvv/IKyWSSZDJJU1MTK1eu9K2jdvr7aJhzaol7OrgIY+kfDqxVSq1TSnUDtwNL7QWUUuuVUs9jBnTYOBlYoZTarpTaAawAFkfQ76LIWqU2/24R9SSqEhCL09h2SNF1lJI5tvQRB41voj4ZPJA7bVQDYzqtMFS/wVe3eydbprHtYE86Z+tpqrHRGRqKz6pcmT3m5jdjTneVNfBerOgHHeZIuFZUzQODdIUb+sY4rvfMhjU1Mmf2HJYtW8bFF1/Mnj17WLvWfyC79Yyv0rLoU6Xt6CAjTPTOeJyZyDZiWO5h8Dt2fMhjI8e+IIi4thVCfXUVezp7ebremDQ00HK5WKt4nXbIWK776Ny85S33lN9ZZEI2fWRFNYzKjC9k6jIraVcJ3DvyPRBNVW+Tbp7Cup295iHGwLs1h6BQHDcL299o8uTJrH7DaCNoDYLBwGB2TYUh6OxqamqoaplO4wFH0bt9B8Ne2ku7//o8Gh8GxC9eRC4FLgWYNGlSydrJCLxNAMKsjevm8hP348hpLVx5wz28l2gN7YuvS8b595MPKLi9Qpk2qp6aRIyjp40MVT7zFfiISDZO3yziGhy94XxnLiPrBpjAuAo3bNhgxNrnitPHikaC4yZXs25nL9K9DzGHItwZO8MSJIpT2ibDG68bZYqqeWCQLtNArlKK9evXZybSAYwePTpjbETXEL6/yYPHD+PRte/yxrv7SKcVw4/+KK/t2Rtt2xVMGNHfBNgcv0wwt4VhE3C869iH3IWUUjcCNwLMnz+/ZNdhT0+32Z4jx1jBNFRX8f79R7Fjw2swtTV0UvaXrukfz9YRU1t45Zv+A7N+5LppZaJ3rHz69kVT9rzDhGZvZJBKp5C44tFHH+XYY48FYOKVd5NIJDxl7e0LMHW48ZOMd+5EGs2UDqk0wUPRwQSlYai1rdE7mBPql8vSv+uuu/jwhz/s2DZ16lRef/31SNsxni6953jTRYdl3j/09EtcdOcbPtFirrqUGnBP5OUizDPzU8B0EZkiIkngXGB5yPrvBxaJSLM5gLvI3FYWaqwJHXZLvw8/BCsNwwEHlN56LyW2WBbPvqxLzCv6OVGwdasRYfHtb3+bRDLJ/Hm5XU3i8t9bTyBRW/oXHtXGuQcbVmlsENv63jxI/YP1d73++uv5zW9+w+LFi9m2LfoFTsL81GKu6LLgugbv3zlq8oq+UqoXuBxDrF8G7lBKrRaRa0RkCYCIHCYiG4GzgRtEZLV57Hbgmxg3jqeAa8xtZaGm2rIXi4/Td5Awpr4nAyzYwUL2vufn3nGFbAYsNu5GAd0pRcOhJ5Pe7zgUQm2Nf6qAoKcuy+3jSd4WkqA4/caaBMe2NZj9HLxioMok+u290DD7FHqnHkPX5CNJHHgS8fEHRtrGmjVreP6FF/KKtX2cLhda9LOE8ukrpe4F7nVt+7rt/VMYrhu/Y28Gbu5DHyOjM20ImCSz4tOnDJmjpgKQrBrcj405ND9n9E7gWSuFQrFml9Cy+Ap++bSRMG18c23ODnjz/phtRmzpQ3btgsGsBekyhe+80l5Hy8mf5vt/W29sqDqAxkX/Fmkbt912GyAkErklyu1+DCKVSnlWkBuqDKkZucOT1g8jGveOpRiHjq0v6vDPLpzOvFHlv2HkuvG5Uys7LeOgC03R3dVDe6cxhnLtotH88+pFfOyIyb6lM5a+OLdZln4qn8M2sBd+rVhtmXUP4oT65ZqRa2V/+PNl83nu6ycxNbUR4tHGhHSkhPpZx1FX35CznDshYBCD+e8cNUNK9LOunIjzsBRZyWcX7s+RY8sv+tmBVB/3Ttxy7+B4zYmCZ555hl/84hcANCbjDKsNdoFZAuz+JmJ9FGanKDrrcN/MBiOhx1eibtf8e4yoTzK8Lklc0kQ9W2VNqpV4bRNjfZb/tCMh3TvFPi1WIkNK9P2s+r4tgGIe24eLr7ClRUpDIQO5yr5SVq7ztlvt+b5j21rDWSFTmZtRsRdsLlG0xiruuusujjrqKI466igWLVrEli1bAo8ZaJQrC4P1vVprJ0iOiXfF0quMv8+fPn1MznJZ92Pub6BcN8iByICI0+8vfCbklj2Mq9ztQ1j3jvE5n+8UQKoSDHvf2aS7O/PWD/7uHftxqWJ9+jn6On78OGA9o1pbadixk507d7JixQqef/55xowZU1R77733HjfeeCPd3d2O7VVVVVxyySVF1xtE2Sx9s914Jt2HfbpjNCgUKp2iNsdscgjv3tGin2VIiX7cyrljU5co0ub0RbhbW0cBm/veiT6Qa/VF66LaunUrjz/+OKvXbwbC5TKPmQPm+SbAWU8R7puD9bFY0c91oVsRV0sv+jRHTRvJSy+9xPOXf7LotgD+8Ic/8OUvf9l3X11dHZ/73OeKrtuPcvn0rXtpxtIXiT4XSUiNdhslgdVpn36GISX6WU2JaCA3AiZOnEi5Rd/SZD+ffm2tEXGzYsUD/OEHy4g3tTLhkzcHlvevP9x3HGTph3m68MNp/TkrbzDTR9zw8DpueHgdAGPO+z7rdhUvDu91pGlecCkXXHQxdXXGpLWe3l5u+uUv2d4V/e+sXOMRlrvNSuwXnMSjeILy7rjJZoHNXS4o+d5QZEiJvl8ahqgWNS+WKS31TGiu9axd25+ISKBl1dhoRE+c+4krmDPqM+zqVtzwYmEXUPi1f93HGa/RRO84aW2s4cGr3s+OdiOVwP2PP8+Nz+2ls7d4IV3bXkPT/CU89PouquJGWoB0Ok3TvNN5vSv6sYJyTc6y7sGWe8e+3GVUKNv/uZAcuaHs9Bb5G6pEhpToD0RLf1JLHY9+4cSy9iHXQG5NIk5MYMUGxYoNKddxEVv6iMNiyw7SRR+nDzB1VDYc8OWXrcVf+i6ft11wIDOnGNNW3t25h/nXPlISUS6bpW/59GM2Sz/iy8hYQCV/ubBPg8U+LVYiQ0r0fROuRRC8M9jpaN8Htf6n01ST4J4rjmXb3q7Mtgtv9s9dHkS+9QYs7QpatatYS7+QCz2KEM60z3mEDSnsS3tG/f3v03eKfrSBgGEtfT0jt3CGlOj7WfXNzX1f02UABOD0icbGRugNvjBmjWtyfJa921ANo0Jb+mGfpoJ8+hs3vU19lWLcuHGBSdv8sJ+PN7+/E0vA+hLl4TcgXcr5AOXz6VvnaW4oxe8/5KlJ2OgdHaefYUjF6WcsTttFOWvmjD7XOxBi7ftCJ4aQhhXxQu3WsO4dxwOBgqQ5Bf+UU0+hra2N888/v6B27QI+foJvlhBPH/vkBrAsfdumUhoE2SUs0/3q0zeWrk3bJtVJ5CcadiA3JmEHcrWlbzG0RN/6kdoeRaurdD6Ohli4RabdhL3M81n6KqDc3LlGVs7zrr6eqaf8C2/tTlEIdutv4ojgxeEhfLx3mPbsIaphQwqLISNkKvo4+ZztohwnJDivqSgwqg8TvRNuIFeLfpYh5t7Jvo+luvnJeUdw3P7hFhqpZML6RTMUeP2EXUNYcF6cbaOHIQIPv9cAh3yQ7TvXF9awyewRKb7xgdxZIK0+9s29Y9QRswlgJktp0bXmaC+7sk2/Wfq//vWveeON9TApu7SlCP0bPmRDQt5UC3mCU0px7bXXsnmzN5T6tNNO4+STTy6ojwONISX6djdDQ/tmlhw6LkfpMFhPDn2spswUGrYqpl0V9qh89VsXrP3mIAInHNDKi984md604vBlt6AKtCYtAT90RJpRjbknlLmziRaDZW06TrekPn3rTf/5q6+66io4dCmNk7PbrPONcqES5XqaCMIKG813sy4kGGDz5s18+ctfpra2lhpbOvDdu3fz3HPPRSL6Gzdu5LnnnvNsHz58OMcckzv1RF8ZsqJfNtOkSB648riShZf6hbKGOi6igdz6+nroMSaCjW5tBfZmBtjrq42faEylKcy5U9gszL6GhxoNmnXZ1vMt5TyQcrh3qg79ACPmLSZdnV3LzGo5lVZUxSMS/ZDunbBPqYU8wXX39DJi8RXMOfL9juVbn3jiCfZsfSl0Pbm46KKL+Nvf/ubZfsQRR/DEE09E0kYQQ0v07ZZkGftRDPu1lm7yVqkzTuYTvjlz5/DSkxs4/LD5jB7dDKxjgmfgtfC+WZofxruUde8U3EyGjE/fti1rBRdfb772lOq/pWCSh5xCr8Q5c874zDZHYrx4/w4TZn67ef5wqoCb+ba93TQeejJbu3up3ZMNVe5onECvRLNg0s7eBIecfjGXfPzjju0jmwLWnIiQoSX6dufjYFP9EpJJbJbqLei4sEZsvtw7E5qN9QhaGqozC60sPtCZnEwElCrsj5YR4RAdjYdcdi9ne+arvT13ltIosfv09+7bx4IFCzLbLrjgAi666KLI2wSYkNrCd844w7Yl+rkIIQ19JOSYSaE+fYD3j9jHz69Ymtk+81P/SSoi4dh1wOn0NLfxoyd3ObbPnih8dEEkTQQypERfbKI/2MMso8TyRlQlc+cuz6Jcr3nqzyO6/3rcVE47eCwTR9QiIrz4f06m3p1dsQhFKUT0M5Z+H0x9P9Ev5YzvTFeVIpas5ck3dzNz1izWvb6OW+/8Y4lE33vlZC396GS/YPdOhFk205nfjXN7lOPVKp6gdu/bLP/auY7tNYnSRxMOKdGPIqNmJWJdxioZbgWw6mSSDqC+Llz5fLoXiwmTWrIhlQ3V3p9lUZZ+yPYhfF72nO35DEjHQiYEK669rE8/0TKRkWd9g21A4yx4Z+fa6BsE35wLlkOnHGGRYZe9LMbSL3WERjzdw/TR/Z9za0jF6TsssEE2kFtKLJGKde7KU9Kgrc0I3Tho1sxw9Udw8RTz98r62Atx7xTcjL1BIGBGbh+qDW4u694BUN3t/P5TR1G1byvpWDS+ZzfGgimubRm/enRRREbunfzfWtiEa4XckDKa799i6HoGKkPK0jcu7EJjQCofv2Ukc/GZBdN5dO27nHrQ2FDlo3FxSMH5ZdJFuHf6knDN371j7iuBFZztqnmeqR7mTmomluouoUnjdws1WotyHdqwNYWdkVtIJFfa5+YN0c5HUEZ6wWgqK5AhJfqlelord6bOvpLtf7gf4eKDxrI4pOCDM4SxWPpm6YeoP4IB11w+/dK5dwQxLX1RNoOmVHoieL5Q6zYQpXtH2f7PRTzkQG4hi+OoAJ9+5MPxZZKNISX6MYd7R2NR6jUFInHv+PiS82H5ccNF70QgzgU8WaRSKZYvX86ePXs8+xYuXMi4cfknDlqiX1NdTRdQX2uuVEYpZ6HkGsiNcJKYItRJxEL+3e75y19YvWp45vOkSZM4/vjjfcsG/W4qRTOGlujbR3Ir5S8YAZmcRCWSiiiehEQVLmS+M2QDiMeMqIm+pWEw8Es74a515cqVnHXexcQS3oipiz68hF/eeGPe9qy+NjU1sa09xZjRrbbWSvcDDxL9KF1YYS39sAPw3/np9aT2bs9u6G5n745tVFd7Z2r316yHcknQ0BL9yC19UywH+Q0kbG6cstYvFP5FZyZn9VPIZoAvWKm0R79e27qPiVf8xreel/e+ErI943XBlDreU3W8f/9RhXW4GHK4dyKP0w+1cla4+RVjzvu+43O6cy8dXd3+op/jCTGqdQv6c/0DN6FEX0QWAz8F4sB/KaWude2vBv4bmAe8B5yjlFovIm3Ay8Aas+gTSqnLoul64UThW65ESn3TiiZ6J78EfP7zn+f+++/PfN5bPRJOvDLcQG4kvvcAI0Apj/W4q8twhXxgWpL3z81GQS279VG6Y/55grZu3coZZ5yRcQntapgMx/4rh42v4cwT5zt6UR73ToSthqwqTHRUPZ38n7OPyHy+/k+PsJZhdPf6u6OyA7nO7VFfJgPW0heROHAdcBKwEXhKRJYrpexJKC4Bdiil9hORc4HvAueY+15XSs2OuN9Fob07/pTapx+JeyeET//Ovz1JqnkWk82Q0ppEI+8A06dPz1t/JnFXXwZyc4SIum8m1udDW6s4a1425cSyW7oImo6w+qWXeHZ7nOkzj6GxsZFEdQvvAlOmTCm6z4UjPiucGa+FDJbmw5ibFWYg12j8tdfWcvfdd3PmmWc660n10Fb1nuM7/v1fOlnbPSzw6SDrKqpMlQhj6R8OrFVKrQMQkduBpYBd9JcC3zDf3wX8QgZgSEvpEpYNuFMtCMu1EeVZLJjRyt9e2eqov9SoIy4g1jSGDbZtIjBtfH63RxSLqGR9+vmfKAuZLWzx+s4Uo5Z8np3ATnNbVUwYO6LBp3SpQtX8NllPSf0fgmh915ve3sxVVy3ziD455hUEDTwHRe9Ee5UMbPfOeHBcRxuBI4LKKKV6RWQX0GLumyIizwK7ga8qpf63b10unsbGBmAfAMlkBJNXBrfWZ6ivNfLd+Pk3i2Hdt09FBKZ86V4gmieJUI65WBUjOzZwzzUXZTbVJGIMr+W2oxAAABIdSURBVEsGH2MdGkH0TqCQ+yREC55DEDyM2JMy9nxqdjUXnGKk361NxhlW6/wtC4p0yX6cwVPdIk3DYPs/FzERYgJNR52LmurjUJAc7qiAP3ZmZrXf7zbCr7VctmKpndybgUlKqTnAlcBvRaTJXUhELhWRVSKyatu2bSXrzH7TpmXez50zp2TtDDbmmN/FtKlTI6kvFnO6AKIaS1F5V+AS4qQYM6wm8y+M4IM93rsU0Tten37QoK+9HjeWSA1LxjLn5xb8kiPB7p1I4/TD+vRjwi8+OpfGnh2k6lqIxWKOf4h4fn9W74NuUkE37yjHSpQMYJ8+sAmYaPs8wdzmV2ajiFQBw4D3lPHtdQEopZ4WkdeB/YFV9oOVUjcCNwLMnz+/ZM+IbS0NzJ44nN2dPRw3Y0z+A4YIh0wczowxjXz0fZNLUn90Pv18hYq/kLILoxdZgbMbTnxizoPSuwjBsanZ5Rjzt19KR4v7/GIlEH1CLqICcOrBY/lWajd7miYzadkfHCKfJsbcOYc6ymcnzOX26Xt+c5F+sQPbvfMUMF1EpmCI+7nAR11llgMXAo8DZwEPKqWUiIwCtiulUiIyFZgOrIus9wUyrC7BHz99dGT1tbS0sL0jzejW0ZHVWQ5mjGnifz57XMnqjyp6J/+FUnzuVCuHy5pXX+Wtt95yLJ4RlqyQ57feg6b6owgcyM3pdugvfNrO+PSjHsgtAKtXTWofHzt+bmZ7XIRzDpvoLJvnJpURfd9eRffdD1hL3/TRXw7cjxGyebNSarWIXAOsUkotB24CbhWRtcB2jBsDwHHANSLSA6SBy5RS272tDE6+/+G5/MdfXmZUU9iUxEOTKAZyw83ILb6dYU1GtsPV69/hRz/9OT/54ffzHOEleCDX6zTKThwL3+dCZhiXSlJEYj4Do8ZrlBGboRPqZzphvDSndvKFxTPyFM09aB8Up18hQ3jh4vSVUvcC97q2fd32vhM42+e4u4G7+9jHAcuCmaNZMHNwW/n9QWRx+vnqkeIHx4Y11JOIC03zl/Bi9+vFVZLDTx/k3vGWDR5VCJtALsrEYL71e9ozRTTiGbmF/CmtsmHsi+xNKiB6J/DLi3LOujeqqL/Qs5U0JSffylnhUKR6863sVbx7pyYR595/OxbV3UEPxS1kETiQW1D0To76c91UXD0phebnGuCEwjJZ5m3LaDB0easPYb7ObCro3Ja+J8tm1OktyhDiClr0Nf1ALN/IYwi6OruoGl7awffpoxshXdiSkXaCffrKM2iYM0IkcCDXeM3nLot+1oVBUFx7KaJ3zJrDlyzgdDPRO4E+favO0pniymigZPXnQou+puRE4dNPNLagejpzF5IIHpnDB43k6Eb+Tlj+ZP/wzoBjing6iJLgiCODIHdJ8W0V/ocI86yXbwZxUKI+EZ+NxeIzf6C/0KKvKTlR+PQbaEeFWLi97y0V7xrJNSPVM5BbjHuHcO4dY/wjdLWhCbrpZGe4lsddARG7d3JZ+mVyyUSJFn1NyYlHsogKIa7oaJSuL+kElJ+1q7yx94H+eR//v70aKJ+lb7l3vAO55v4ypFbO9iG8Uyu/eyfIp0+ELhlt6WsqkLj5q66p6Xt6h7CXdJ8FURWfci3X4KN3INd49e1uQAcs0Q1j6ZfEpx+YkyZ6S7/gOH2xXsP/RoLTMARMziqiX7n7EWFlBTCk8ulr+pc/XX4M2/Z2kYhHYOlL/gtaReQnLTbXeS5DN8i942dN5vPp91cCO0/7AaJeEvFShQVIFubeMZsIOJ/A83S01FfKF/WvRV9TMg4aPyyyusJNzopIgIo05wIP87kb5B6U9T+JsO6dUoXpB6WOLlWcfhFzs8K5d0Jb+qUU5vIto6LdO5pBQQxC+fSjGcgtVvWDQn98fPrmayGTs0LH6Ye8QRZKkNsjk3sn0oHcAvufce+Er7lQ0Y/0HiBSNmNfi75mUCAhLpIwZfKiVNEBGrkGH4OybBYycS0wEZiLUmmJFZLpHcg1o2H6aOnfcfcfaZ51DMNmHcPmnfsKOraQc86ukpY7n77/zTWiYIHIaioc7d7RDAqM6y+fjSJ9tvX74hoJdEn43EiC0jDkaj+KhGubNm3iqquuorPTOedBRPjc5z7HcccFJ97LNfkM+r5y1t3/fIdhS76U+dzWGP7YzEBuAWUDc++4ymWOC9tAKErlhMuPFn3NoCBUuFwkT8wlSmHg/hxoTeaI9Q+bewcV6DG+c8XjPNpyKlXVtY4Svalefvj7f+QU/aAnDesclv/5z0wfcx4jR47M2b8geszJBXdf9j4SVXEmjagLfax1sw9zQwzt0y+xLV6uoE0t+ppBQbjZkFHMyFVF3zkKmUVazOzawHTMBfBOB1Q1tnDC1AYmj8mK8y2PvMbOtGd9I2f7VvZJ1/YRI0bAVvjl/65HpX7FtV9dVlTfLMN7zqTmghfeyYZshihrvubLp+95CovU1NfROxpNTmKhUmhGFLLZJ1M/YCA3oA1f905Q7h2rTL7cOzlukClTWc+b08KCww7MbL/lwRfyzuJVWf+OY/uZJx3Dnzc8CYecxCsdG3NXkrN+47WYldaKit7JOyPX20ZkT4Fhfs4lQg/kagYFRpx+iCWj+nwh9SENQ+Y/n31BM3J95zAEhWwax/RlhnM6qA6VJp9HPmhG7kHjh7Hqa4sASPVBFdNKBQ6u5iVj6ef/AVjzHPIuouJbVXSWvg7Z1GhykJlQk9MMj2pyVpHHKeV/tE9qheJCNo3XMHH6QVjCHXffbEJELeWLw1fpVJ9i9dOKoh+zCvm7Z1b6yuPT9621fF6ZyNCirxkUWB6NVK5YcOn7hBrxyZMTlkIOy5ebPtcxYXz6QQO5lihX+a3ulUdw867c1Ydw10zf+pipM8xs5Xy5ggJnS0skj5KefvQ3WvQ1gwTLD5tLFMpr6fstgB5UZyECbhE2DUNuSz+gjhyJ3rJF8swTUOm+L5lY9F1DbP/nKZk3y2Y/zMjVqZU1mtyEsvQjWYKuryGbQTNy3ZOzjFf3oGzuOP1wN4pcUSbW1+f26ecaQM60bysb0MGyuXcsCsm9E2jpB9QV/rYysNGirxkUxCSEpV/m6zFwRq6Pxyg4/DJY9Apa0SmgSMa94+PTz+dYyWcBK5Xuu3unb8PooZ71sjNyA0Q/7SxnEe3PS8qWIluLvmZQkXPWp8T6fGEKfUjDUMBxwQO5wf740JZ+jn2Weyced68DHGIg14reCXTvqD65d1R/WfqWqzBv9I6PqR+pTpdnRq4Wfc2gIJx7Jxo/bPG2ZtAgsF8ahj4M5IbK15N7INcb9pnfrZURw8BeKopfjcAayO2j6IcpE3Ig1/9vE5HqS99ThhSLFn3NoMCybnNb+hFcRkrRtws7nGhZehP3WSM33zF5QzZz7LZumm73joSIvAka+LQViGA1weIqKOSoWMiB3NJSPl+kFn3NoCCbJCtY9EVikYTBRX/J+8Tp5/CPB7UfNg2DiJBO1jP2g59nwgeX8df/fcJThydOvxBLP6B56aN7Z6AM5OZcLlGHbGo0/YNk3Du5hxv77tMvnkCfdI5NbldNLmHJRpXk7uUZxxxCfQIapx9O1YwTuPeZNzL7sgO5Pj79nLWGSO3cR0u/kNxFfSFfKuhsZJX7QCKckDvAQzZFZLGIrBGRtSLyRZ/91SLyO3P/kyLSZtv3JXP7GhE5Obqua4YS2eidAOssM8jY10upr/n0A/YF+PQLidMP69P//FnH8PJ3z+J3/zIPgO6eVLYOayDXHbIZwp2eTbiWy6dfPFH49MOQzbLpvz/3UpZDwNIXkThwHXAKMAv4iIjMchW7BNihlNoP+DHwXfPYWcC5wIHAYuD/mvVpNAVhXaiplL+slHNR7sxxAQeKr3vH3Cc+8fJ56g97o6gzF6Tv6s2KvvXteUI2c6RjdhN4z+njjNzAkNeIsfqfz3df0pWzykgYS/9wYK1Sap1Sqhu4HVjqKrMU+LX5/i5ggRjf2FLgdqVUl1LqDWCtWZ9GUxDW9ZbK54ft46Lh/RX7U1gkjvuYcF7ZelP0u3uzN8qgkE2/G1NQ+znTMITqWeDh/WvpBz01FhFZVUQvBnQ+/fHABtvnjcARQWWUUr0isgtoMbc/4Tp2fNG91QxZLHE88Vt/Bl8ngkDj6EhEe0/NGKZ8+qaCj0wnWgJyxyg2x1sddabjNUidnwtB0V0/2rf9zDEhbxT1tYboP7KtOlNfuqoWqfWvY1e1f7vZs4hBY2uO71jxtowq6rsDSCdHAd1FHRsTCf2QYIn5lb9/iavufsHbj1gCqW/xeaISpLq+6PNz0NCK9C3NUNEMiHz6InIpcCnApEmTytwbzUDkwkWH8cKvHyKV4xk7tm89F57ltkcKY+nM4Ty4ZktxZl1vJzNbaz2bF4yHZzZuc9aZ7qS5dxcHTF7sKPvheeP447Ob/NtPdzK8ZxcHT1vss9NLc1MDs9jA5lTK9qjUyRh20zLMuRbhkgMaeei1d/Ked3zfes4/d4HvvoUT4JmNW4s3iXs6OWRcfVGHXvGBI7j69n/wiTOCV/6y+PCJ87nn2T8Ytxe/vqpOajr2cOpR5zk2X3j8gfz8/vzrDoRB9r3Fhace0veKimk7hF/rSOAbSqmTzc9fAlBKfcdW5n6zzOMiUgVsAUYBX7SXtZcLam/+/Plq1apVfTopjUajGWqIyNNKqfn5yoVxDj4FTBeRKSKSxBiYXe4qsxy40Hx/FvCgMu4my4FzzeieKcB0YGXYk9BoNBpNtOR175g++suB+4E4cLNSarWIXAOsUkotB24CbhWRtcB2jBsDZrk7gJeAXuDTSqmUb0MajUajKTl53Tv9jXbvaDQaTeFE6d7RaDQaTYWgRV+j0WiGEFr0NRqNZgihRV+j0WiGEFr0NRqNZggx4KJ3RGQb8GaBh40E3i1BdwYClXxuUNnnp89t8DIYz2+yUmpUvkIDTvSLQURWhQlVGoxU8rlBZZ+fPrfBSyWfn3bvaDQazRBCi75Go9EMISpF9G8sdwdKSCWfG1T2+elzG7xU7PlVhE9fo9FoNOGoFEtfo9FoNCEYFKIvIjeLyFYRedG27WwRWS0iaRGZ7yo/aBZjDzi374vIKyLyvIj8QUSG2/YN9nP7pnlez4nIX0VknLldRORn5rk9LyJzy9fzcPidn23fVSKiRGSk+XlQnV/A3+4bIrLJ/Ns9JyKn2vYN6t+luf0K87pbLSLfs20fNOcWCqXUgP8HHAfMBV60bZsJHAA8BMy3bZ8F/BOoBqYArwPxcp9Dgee2CKgy338X+G4FnVuT7f2/Adeb708F7sNYy+h9wJPl7n8x52dun4iRivxNYORgPL+Av903gGU+ZSvhd3kC8ABQbX5uHYznFubfoLD0lVKPYOTpt297WSm1xqf4oFqMPeDc/qqU6jU/PgFMMN9Xwrnttn2sJ7uy6VLgv5XBE8BwERnbPz0tDr/zM/kx8Hmcq7YOqvPLcW5+DPrfJfBJ4FqlVJdZZqu5fVCdWxgGhegXiN9C7oN5MfaPY1iIUCHnJiL/ISIbgI8BXzc3V8q5LQU2KaX+6dpVEecHXG66p24WkWZzWyWc2/7AsSLypIg8LCKHmdsr4dwcVKLoVwwi8hWMFcd+U+6+RIlS6itKqYkY53V5ufsTFSJSB3yZ7I2s0vhPYBowG9gM/LC83YmUKmAEhuvt34E7RCSCJdAHHpUo+pswfKoWE8xtgwoRuQg4HfiYMp2LVMi52fgNcKb5vhLObRqG3/efIrIe4xyeEZExVMD5KaXeUUqllFJp4Jdk3RyD/twwLPjfm+63lUAaI/9OJZybg0oU/UG/GLuILMbwCS9RSrXbdlXCuU23fVwKvGK+Xw5cYEa5vA/YpZTa3O8d7ANKqReUUq1KqTalVBuGkMxVSm2hAs7PNQbxIcCKfhn0v0vgjxiDuYjI/kASI+FaJZybk3KPJIf5B9yG8TjZg3EhXYLxo9sIdAHvAPfbyn8FY5R9DXBKuftfxLmtxfAjPmf+u76Czu1uDLF4HvgzMN4sK8B15rm9gC0ia6D+8zs/1/71ZKN3BtX5BfztbjX7/jyGGI6toN9lEvh/5m/zGeDEwXhuYf7pGbkajUYzhKhE945Go9FoAtCir9FoNEMILfoajUYzhNCir9FoNEMILfoajUYzhNCir9FoNEMILfoajUYzhNCir9FoNEOI/w8Mg8huTw45IgAAAABJRU5ErkJggg==\n",
>>>>>>> 414f782ab4d7aa645846effbb20e57a09767c1d7
      "text/plain": [
       "<matplotlib.figure.Figure at 0x23bcd5c0f28>"
      ]
     },
     "metadata": {
      "needs_background": "light"
     },
     "output_type": "display_data"
    }
   ],
   "source": [
    "# fumaric production\n",
    "\"\"\" rate of fumaric is calculated by converting the rate of NaOH dosing to fumaric production\"\"\"\n",
    "rpm = 2\n",
    "mmx = 24.04 # g/cmol C H 1.8 O 0.5 N 0.16\n",
    "\n",
    "flowrate_naoh = dosing_avg * (0.05228291711 * rpm - 0.005367597828) #ml/min\n",
    "rate_f = 10 * 0.5 * flowrate_naoh * (1.087/(1.93/mmx)) # mmol/ml * mol_f/mol_naoh * ml/min = mmol/min\n",
    "\n",
    "plt.plot(time[i_start::],rate_f[i_start::], 'k')\n",
    "plt.plot(time[i_start::],data['Fumaric_rate_(Cmol/Cmol/min)'][i_start::]*1000)\n",
    "plt.show()"
   ]
  },
  {
   "cell_type": "code",
<<<<<<< HEAD
   "execution_count": 19,
   "metadata": {},
   "outputs": [],
   "source": [
    "# gas analysis\n",
    "\n",
    "V = 22.4 #L\n",
    "R = 8.3144598E-2 #L⋅bar⋅K−1⋅mol−1\n",
    "P = 1.01325 #bar\n",
    "T = 273.15 + 35 #K\n",
    "#PV = nRT\n",
    "n = P*V/(R*T)\n",
    "\n",
    "\n",
    "comp_co2_0 = 8.4768/100 #%\n",
    "comp_o2_0 = 19.894/100 #%\n",
    "\n",
    "\n",
    "Qtotal = (flow_co2 + flow_o2)/1000 #ml/min\n",
    "Ftotal = Qtotal*P/(R*temp)\n",
    "Fco2_in = Qtotal*P/(R*temp)*comp_co2_0\n",
    "Fo2_in = Qtotal*P/(R*temp)*comp_o2_0\n",
    "Fco2_out = Qtotal*P/(R*temp)*comp_co2\n",
    "Fo2_out = Qtotal*P/(R*temp)*comp_o2\n",
    "\n",
    "mx = 1.93 / 24.04 #mol_x\n",
    "\n",
    "r_co2_cal = (Fco2_out - Fco2_in)/mx\n",
    "r_o2_cal = (Fo2_out - Fo2_in)/mx"
=======
   "execution_count": 13,
   "metadata": {},
   "outputs": [
    {
     "data": {
      "text/plain": [
       "(0, 5)"
      ]
     },
     "execution_count": 13,
     "metadata": {},
     "output_type": "execute_result"
    },
    {
     "data": {
      "image/png": "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\n",
      "text/plain": [
       "<Figure size 432x288 with 1 Axes>"
      ]
     },
     "metadata": {
      "needs_background": "light"
     },
     "output_type": "display_data"
    }
   ],
   "source": [
    "#time step\n",
    "\n",
    "dt = np.array([(time[i + 1] - time[i])*3600 for i in range(len(time)- 1) ])\n",
    "\n",
    "plt.plot( range(len(time)- 1), dt)\n",
    "plt.ylim([0,5])"
>>>>>>> 414f782ab4d7aa645846effbb20e57a09767c1d7
   ]
  },
  {
   "cell_type": "code",
   "execution_count": null,
   "metadata": {},
   "outputs": [],
   "source": []
  }
 ],
 "metadata": {
  "kernelspec": {
   "display_name": "Python 3",
   "language": "python",
   "name": "python3"
  },
  "language_info": {
   "codemirror_mode": {
    "name": "ipython",
    "version": 3
   },
   "file_extension": ".py",
   "mimetype": "text/x-python",
   "name": "python",
   "nbconvert_exporter": "python",
   "pygments_lexer": "ipython3",
   "version": "3.6.3"
  }
 },
 "nbformat": 4,
 "nbformat_minor": 2
}
